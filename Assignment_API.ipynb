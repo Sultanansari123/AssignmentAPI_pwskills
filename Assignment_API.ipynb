{
 "cells": [
  {
   "cell_type": "markdown",
   "id": "396ab5d6-051b-45dc-beea-bf22de86876b",
   "metadata": {},
   "source": [
    "Ans1-API stand for application programming interface.It is set of rules and protocols that allows one software application interect with another."
   ]
  },
  {
   "cell_type": "markdown",
   "id": "9cdb8d22-1345-419f-a8bb-9b377efdec0d",
   "metadata": {},
   "source": [
    "Example:Consider a weather application on your smartphone. This app might use a weather API to gather up-to-date information about the current weather conditions. The API would provide a set of rules (such as specific URLs and data formats) that the weather app can use to request information like the current temperature, humidity, and forecast. The API then processes these requests and returns the relevant data back to the weather app, which can then display it to the user."
   ]
  },
  {
   "cell_type": "markdown",
   "id": "26fa177c-be48-4f2f-96f7-2ccdfc1115b2",
   "metadata": {},
   "source": [
    "API are used in various real life scenarios including-\n",
    "-social media integration\n",
    "-payment gatways\n",
    "-map and location service\n",
    "-financial service\n",
    "-wheather service\n",
    "-communication service\n",
    "-cloud service"
   ]
  },
  {
   "cell_type": "markdown",
   "id": "c6fcc9e6-9a57-4f5c-a1bb-bfe985ce96ba",
   "metadata": {},
   "source": [
    "Ans2- Advantage of api\n",
    "1-Interoperability: APIs enable different software systems to communicate and work together, promoting interoperability."
   ]
  },
  {
   "cell_type": "markdown",
   "id": "0114cce8-da5f-4673-a11e-450a0720c7dd",
   "metadata": {},
   "source": [
    "2-Modularity: APIs allow for modular design, where different components of a system can be developed and updated independently. This makes it easier to maintain and scale applications."
   ]
  },
  {
   "cell_type": "markdown",
   "id": "aa51dadf-28a2-4f71-97d8-5d1704b5ed45",
   "metadata": {},
   "source": [
    "3-Access to Third-Party Services: APIs provide a standardized way for applications to access third-party services, such as payment gateways, social media platforms, or mapping services, expanding the functionality of applications."
   ]
  },
  {
   "cell_type": "markdown",
   "id": "4c7fa8d2-8e24-4ee1-b7b6-a69102355e41",
   "metadata": {},
   "source": [
    "4-Scalability: APIs can enhance the scalability of applications. As demand grows, developers can scale their services by making use of additional API resources without having to rebuild the entire system."
   ]
  },
  {
   "cell_type": "markdown",
   "id": "e0fe05df-8dcc-4987-a6b1-7e28d1dfaae7",
   "metadata": {},
   "source": [
    "Disadvantage of api"
   ]
  },
  {
   "cell_type": "markdown",
   "id": "ce405da3-62a8-4628-8139-18d3b3846854",
   "metadata": {},
   "source": [
    "1-Versioning Challenges: APIs may undergo updates or changes over time. Managing different versions of APIs can be challenging."
   ]
  },
  {
   "cell_type": "markdown",
   "id": "e9362db7-712b-4f15-8bb3-fe07cf6fd76e",
   "metadata": {},
   "source": [
    "2-Security Concerns: APIs can introduce security vulnerabilities if not implemented and maintained properly. Issues such as insufficient authentication, improper access controls, and data exposure can pose risks to the integrity and confidentiality of data"
   ]
  },
  {
   "cell_type": "markdown",
   "id": "7aa7015a-22bc-4c09-92f1-f17a3f2bacf6",
   "metadata": {},
   "source": [
    "3-Limited Control: When using third-party APIs, developers have limited control over the functionality and performance of the API. Changes made by the API provider may impact the behavior of the integrating application."
   ]
  },
  {
   "cell_type": "markdown",
   "id": "bcb2fd0a-83d8-48ec-b5f4-c7c3b8c8e9f8",
   "metadata": {},
   "source": [
    "4-Data Privacy Concerns: When using external APIs, there may be concerns about the privacy and security of data transmitted between the application and the API. Ensuring compliance with data protection regulations is crucial."
   ]
  },
  {
   "cell_type": "markdown",
   "id": "cea1ef41-0f84-47a4-88bf-e8d33225f3b4",
   "metadata": {},
   "source": [
    "5-Costs: Some APIs may come with usage-based costs, and as the application scales, these costs can increase. It's important for developers to be aware of the pricing models associated with the APIs they integrate"
   ]
  },
  {
   "cell_type": "markdown",
   "id": "741b5411-759f-439e-93be-917323f31982",
   "metadata": {},
   "source": [
    "Ans3-\n",
    "Web API-Web api especially refer to api that are accessible over the web through http standard protocols allowing systems to interact with each other over the internet.\n"
   ]
  },
  {
   "cell_type": "markdown",
   "id": "700758fc-953f-4d66-b9be-0561b16f0f85",
   "metadata": {},
   "source": [
    "Differece api and web api-\n",
    "api is a interface between software systems\n",
    "and web api is a specifically pertains to interfaces accessible over the web, RESTful or SOAP principles are web-based communication."
   ]
  },
  {
   "cell_type": "markdown",
   "id": "727be9a0-9ed0-41f5-8646-68592f725917",
   "metadata": {},
   "source": [
    "Ans4-\n",
    "REST (Representational State Transfer):\n",
    "REST is an architectural style for designing networked applications. It relies on a stateless communication model and leverages standard HTTP methods (GET, POST, PUT, DELETE) for operations on resources. RESTful APIs use a simple and lightweight approach, emphasizing a client-server architecture with stateless communication, scalability, and simplicity."
   ]
  },
  {
   "cell_type": "markdown",
   "id": "17d43a0a-4218-4557-9128-e6edec7ba377",
   "metadata": {},
   "source": [
    "SOAP (Simple Object Access Protocol):\n",
    "SOAP is a protocol for exchanging structured information in web services. It relies on XML for message formatting and typically uses HTTP or SMTP as the transport protocol. SOAP is known for its strict standards and can operate over various protocols, offering features like security and transactions."
   ]
  },
  {
   "cell_type": "markdown",
   "id": "ee121045-9544-4abe-8c12-4468922c9909",
   "metadata": {},
   "source": [
    "Shortcomings of SOAP:\n",
    "\n",
    "Complexity: SOAP messages are typically larger and more complex than their REST counterparts due to the XML format, making them less human-readable and increasing bandwidth usage.\n",
    "\n",
    "Overhead: The XML format and the extensive use of headers in SOAP can introduce overhead, impacting performance and requiring more processing power.\n",
    "\n",
    "Stateful Operations: SOAP can support stateful operations, which may lead to increased complexity in implementation and maintenance.\n",
    "\n",
    "Limited Browser Support: SOAP is generally not as browser-friendly as REST, which is a significant drawback for web applications that rely on browser-based interactions.\n",
    "\n",
    "Flexibility: While SOAP offers a strict standard, this can be a disadvantage in situations where a more flexible and lightweight approach (as in REST) is preferred."
   ]
  },
  {
   "cell_type": "markdown",
   "id": "b4ff4fa3-da2b-497a-96d7-43c43a70e6c2",
   "metadata": {},
   "source": [
    "Ans5- difference b/w rest and soap\n",
    "1-Rest is a flexible and soap is a strict\n",
    "2-Rest is a stateless, making each request independent.And soap is stateful maintaining sessional information between request.\n",
    "3-Rest commanly use lightweight format and soap used is complex format like XML data format.\n",
    "4- REST is widely used for web and mobile applications due to its simplicity, while SOAP is commonly used in enterprise-level applications requiring strict standards and security."
   ]
  },
  {
   "cell_type": "code",
   "execution_count": null,
   "id": "dc38fdc4-3a84-4dbb-ab07-852674afbaac",
   "metadata": {},
   "outputs": [],
   "source": []
  }
 ],
 "metadata": {
  "kernelspec": {
   "display_name": "Python 3 (ipykernel)",
   "language": "python",
   "name": "python3"
  },
  "language_info": {
   "codemirror_mode": {
    "name": "ipython",
    "version": 3
   },
   "file_extension": ".py",
   "mimetype": "text/x-python",
   "name": "python",
   "nbconvert_exporter": "python",
   "pygments_lexer": "ipython3",
   "version": "3.10.8"
  }
 },
 "nbformat": 4,
 "nbformat_minor": 5
}
